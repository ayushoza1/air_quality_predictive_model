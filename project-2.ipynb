{
 "cells": [
  {
   "cell_type": "markdown",
   "id": "3fd396d2",
   "metadata": {},
   "source": [
    "# Introduction\n",
    "\n",
    "During the 2021 United Nations Climate Change Conference a report was published stating that 'Air pollution is the largest environmental risk to the public’s health, contributing to cardiovascular disease, lung cancer and respiratory diseases. It is costing the UK economy £20 billion a year and contributes to over 25,000 deaths a year' $^{1}$. However, this report could be masking a bigger issue of air polution worldwide. An OECD report published in 2016 states that air pollution costs 1% of GDP each year and accounts for 9 million premature deaths $^{2}$.\n",
    "\n",
    "With the human population growing at an exponential rate, it would seem, we now find ourselves in a continous loop. The Malthusian model, commonly used in development econmics, looks to model population growth. As a country grows food production, basic industry and infrastructure grow to service the population until an equilibrium level is reached. There are two takeaways from the model relating to air pollution. Firstly, air pollution does not cost and is in essence free to 'produce' implying there is no constraint on air pollution. Moreover, as less economically developed countries accelerate towards their equilibrium state, industry will have to keep up and air pollution is predicted to get worse.\n",
    "\n",
    "This being said, there appears to be other factors that affect air pollution. Global warming is well documented, however, the secondary and tertiary impacts on air pollution are less clear. Wildfires raged across Greece in August 2021, with the problem stemming from unusually hot and long summers. The Guardian reported that 'the fires were some of the worst on record' $^{3}$. Wildfires produce high amounts of black carbon, carbon dioxide, ozone precursors and black carbon into the atmosphere, causing air quality to plummet. \n",
    "\n",
    "However, with evolving winds, humidity levels and precipitation rates, areas once crippled by air pollution may soon see clearer skies while air pollution is involuntarily dumped onto other cities in a game of air pollution roulette. \n",
    "\n",
    "In this report we will look in depth at the factors above namely: demographics, weather and events. The report will aim to highlight areas of interest related to these factors in three countries: Mexico, UK and Iceland - representing an emerging nation and two developed nations with very different weather dynamics, industry and natural resources.  \n",
    "\n",
    "The report will focus upon 2 key measurements particulate matter 10 (pm10) and particulate matter 25 (pm25) these are defined as particulate matter that is smaller than 10 micrometres and 25 micrometres respecitivley. These were chosen given the breadth of activities that produce pm10 and pm25. The main contributor to pm10 and pm25 is the burning of oil, fuel and wood, however, pm25 and pm10 also include dust from industrial activity, landfill sites and even smaller bacteria. The wide range of polluting activities emitting these particulates will allow us to examine, explore and analyse the three nations in depth. \n",
    "\n",
    "Finally, we aim to predict air quality in a certain city for a certain day given the weather conditions using simple regression model.\n",
    "\n",
    "# Data & Measurements\n",
    "\n",
    "Most of the data in this report and prediction model comes from two apis. One for weather and one for pollution.\n",
    "We wrapped both of them in functions that call the apis, parse the response and return appropriate data frames.\n",
    "In addition to returning the data asked for, our functions also store the data in CSV files under ./data in the project directory. This is done to reduce network requests and also to be able to verify and play around with the data in raw format when exploring it. \n",
    "<br>If a csv file exists for the city the user asks for, and it contains all the rows for the queried dates, they are returned and the api is not called.\n",
    "\n",
    "We also have yearly population data. That is stored locally in csv files, no api there(something more plz).\n",
    "\n",
    "## Weather\n",
    "The source for weather data is the meteostat api found here https://dev.meteostat.net/python/. It has a convenient python library that allows the user to query for historical weather data for a particular location during a specified time interval.\n",
    "The python library even automatically collects data from different weather stations and bundles them together. \n",
    "For the purpose of this report, we need to transform the data a bit before using it. For example, we are only interested in a subset of all the data in the response. Furthermore, to ease usage of our model, our users should only provide a city name but the meteostat library only accepts latitude and longitude coordinates. \n",
    "To facilitate that, prior to using the meteostat api, we call a geocoding api from open-meteo.com [https://open-meteo.com/en/docs/geocoding-api]. It accepts a city name and returns all cities that match the name and their geographic latitude and longitude coordinates. \n",
    "\n",
    "The results from the open-meteo api are global. This means that if multiple cities share the same name, they are all in the API response. Because of this, we filter the results down to a particular country, and assume that if our user ask for 'London' she means London UK, not London New York USA. In addition, of all the cities that match a given country, we assume the user wants the most populated city.\n",
    "\n",
    "Armed with the latitude and longitude for the city the user wants to know about, we then finally call the meteostat api. \n",
    "As mentioned before, if we already have CSV data locally for the range, instead of going through all that was mentioned above,\n",
    "we just return appropriate data from the CSV file.\n",
    "## Pollution\n",
    "\n",
    "\n",
    "## Demography\n",
    "\n",
    "\n",
    "## \n",
    "\n",
    "$^{1}$ http://www.local.gov.uk/parliament/briefings-and-responses/cop26-and-impact-air-pollution-public-health-and-wellbeing-house\n",
    "\n",
    "$^{2}$ OECD (2016), The Economic Consequences of Outdoor Air Pollution, OECD Publishing, Paris, https://doi.org/10.1787/9789264257474-en.\n",
    "\n",
    "$^{3}$ https://www.theguardian.com/world/2021/sep/30/its-like-a-war-greece-battles-increase-in-summer-wildfires"
   ]
  }
 ],
 "metadata": {
  "kernelspec": {
   "display_name": "Python 3",
   "language": "python",
   "name": "python3"
  },
  "language_info": {
   "codemirror_mode": {
    "name": "ipython",
    "version": 3
   },
   "file_extension": ".py",
   "mimetype": "text/x-python",
   "name": "python",
   "nbconvert_exporter": "python",
   "pygments_lexer": "ipython3",
   "version": "3.8.5"
  }
 },
 "nbformat": 4,
 "nbformat_minor": 5
}
