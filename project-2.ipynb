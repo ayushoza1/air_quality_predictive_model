{
 "cells": [
  {
   "cell_type": "markdown",
   "id": "3fd396d2",
   "metadata": {},
   "source": [
    "# Introduction\n",
    "\n",
    "During the 2021 United Nations Climate Change Conference a report was published stating that 'Air pollution is the largest environmental risk to the public’s health, contributing to cardiovascular disease, lung cancer and respiratory diseases. It is costing the UK economy £20 billion a year and contributes to over 25,000 deaths a year' $^{1}$. However, this report could be masking a bigger issue of air polution worldwide. An OECD report published in 2016 states that air pollution costs 1% of GDP each year and accounts for 9 million premature deaths $^{2}$.\n",
    "\n",
    "With the human population growing at an exponential rate, it would seem, we now find ourselves in a continous loop. The Malthusian model, commonly used in development econmics, looks to model population growth. As a country grows food production, basic industry and infrastructure grow to service the population until an equilibrium level is reached. There are two takeaways from the model relating to air pollution. Firstly, air pollution does not cost and is in essence free to 'produce' implying there is no constraint on air pollution. Moreover, as less economically developed countries accelerate towards their equilibrium state, industry will have to keep up and air pollution is predicted to get worse.\n",
    "\n",
    "This being said, there appears to be other factors that affect air pollution. Global warming is well documented, however, the secondary and tertiary impacts on air pollution are less clear. Wildfires raged across Greece in August 2021, with the problem stemming from unusually hot and long summers. The Guardian reported that 'the fires were some of the worst on record' $^{3}$. Wildfires produce high amounts of black carbon, carbon dioxide, ozone precursors and black carbon into the atmosphere, causing air quality to plummet. \n",
    "\n",
    "However, with evolving winds, humidity levels and precipitation rates, areas once crippled by air pollution may soon see clearer skies while air pollution is involuntarily dumped onto other cities in a game of air pollution roulette. \n",
    "\n",
    "In this report we will look in depth at the factors above namely: demographics, weather and events. The report will aim to highlight areas of interest related to these factors in three countries: Mexico, UK and Iceland - representing an emerging nation and two developed nations with very different weather dynamics, industry and natural resources.  \n",
    "\n",
    "Finally, aim to predict air quality in a certain city for a certain day given the weather conditions using simple regression model.\n",
    "\n",
    "# Data & Measurements\n",
    "\n",
    "We use some data. We collect it from various sources online. \n",
    "\n",
    "## Weather\n",
    "As mentioned above, the data we chose to use is mainly weather and pollution. The source for weather is the meteostat api found here https://dev.meteostat.net/python/. It has a convenient python librarly, that allows the user to ask for historical weather data for a particular location during a specified time interval. The python library even caches the results locally, reducing redundant api calls. \n",
    "Our needs for this report are a bit ad-hoc. For example, we are interested in a subset of all the data in the response. Furthermore, to ease usage of our report, our users should only provide a city name but the meteostat library accepts latitude and longitude coordinates. \n",
    "To facilitate that, we use a geocoding api from open-meteo.com [https://open-meteo.com/en/docs/geocoding-api]. It accepts a city name and returns all cities that match the name and their geographic latitude and longitude coordinates. \n",
    "\n",
    "To be useful, we need to do a bit more. It turns out that the results are global, so if multiple cities have the same name, we get them all in the API response. Because of this, we filter the results down to a particular country, and assume that if our user ask for 'London' she means London UK, not London New York USA. In addition, of all the cities that match a given country, we assume the user wants the most populated city.\n",
    "\n",
    "Armed with the latitude and longitude for the city the user wants to \n",
    "## Pollution\n",
    "\n",
    "## Demography\n",
    "\n",
    "To summarise the data the report will use the same techniques as the BBC air quality index *ADD WHAT THIS IS*. When producing the report, air pollution statistics have been obtained from the openAQ API, GDP and population data has been obtained from the OECD and weather data has been obtained using a meteo stat API. All data sources have been checked for the quality of data while data processing and manipulation has been done in Python. \n",
    "\n",
    "The report will focus upon 2 key measurements particulate matter 10 (pm10) and particulate matter 25 (pm25) these are defined as particulate matter that is smaller than 10 micrometres and 25 micrometres respecitivley. These were chosen given the breadth of activities that produce pm10 and pm25. The main contributor to pm10 and pm25 is the burning of oil, fuel and wood, however, pm25 and pm10 also include dust from industrial activity, landfill sites and even smaller bacteria. The wide range of polluting activities emitting these particulates will allow us to examine, explore and analyse the three nations in depth. \n",
    "\n",
    "## \n",
    "\n",
    "$^{1}$ http://www.local.gov.uk/parliament/briefings-and-responses/cop26-and-impact-air-pollution-public-health-and-wellbeing-house\n",
    "\n",
    "$^{2}$ OECD (2016), The Economic Consequences of Outdoor Air Pollution, OECD Publishing, Paris, https://doi.org/10.1787/9789264257474-en.\n",
    "\n",
    "$^{3}$ https://www.theguardian.com/world/2021/sep/30/its-like-a-war-greece-battles-increase-in-summer-wildfires"
   ]
  },
  {
   "cell_type": "code",
   "execution_count": null,
   "id": "355ee9fd",
   "metadata": {},
   "outputs": [],
   "source": []
  },
  {
   "cell_type": "code",
   "execution_count": null,
   "id": "b15938a1",
   "metadata": {},
   "outputs": [],
   "source": []
  }
 ],
 "metadata": {
  "kernelspec": {
   "display_name": "Python 3",
   "language": "python",
   "name": "python3"
  },
  "language_info": {
   "codemirror_mode": {
    "name": "ipython",
    "version": 3
   },
   "file_extension": ".py",
   "mimetype": "text/x-python",
   "name": "python",
   "nbconvert_exporter": "python",
   "pygments_lexer": "ipython3",
   "version": "3.7.4"
  }
 },
 "nbformat": 4,
 "nbformat_minor": 5
}
