{
 "cells": [
  {
   "cell_type": "code",
   "execution_count": 32,
   "metadata": {
    "scrolled": true
   },
   "outputs": [
    {
     "data": {
      "text/html": [
       "<div>\n",
       "<style scoped>\n",
       "    .dataframe tbody tr th:only-of-type {\n",
       "        vertical-align: middle;\n",
       "    }\n",
       "\n",
       "    .dataframe tbody tr th {\n",
       "        vertical-align: top;\n",
       "    }\n",
       "\n",
       "    .dataframe thead th {\n",
       "        text-align: right;\n",
       "    }\n",
       "</style>\n",
       "<table border=\"1\" class=\"dataframe\">\n",
       "  <thead>\n",
       "    <tr style=\"text-align: right;\">\n",
       "      <th></th>\n",
       "      <th>ID</th>\n",
       "      <th>Date</th>\n",
       "      <th>pm10_mean</th>\n",
       "      <th>pm25_mean</th>\n",
       "      <th>pm10_max</th>\n",
       "      <th>pm25_max</th>\n",
       "      <th>pm10_min</th>\n",
       "      <th>pm25_min</th>\n",
       "    </tr>\n",
       "  </thead>\n",
       "  <tbody>\n",
       "  </tbody>\n",
       "</table>\n",
       "</div>"
      ],
      "text/plain": [
       "Empty DataFrame\n",
       "Columns: [ID, Date, pm10_mean, pm25_mean, pm10_max, pm25_max, pm10_min, pm25_min]\n",
       "Index: []"
      ]
     },
     "execution_count": 32,
     "metadata": {},
     "output_type": "execute_result"
    }
   ],
   "source": [
    "import sys\n",
    "from pandas.core.frame import DataFrame\n",
    "import requests\n",
    "import datetime as dt\n",
    "import pandas as pd\n",
    "import seaborn as sns\n",
    "import matplotlib as mpl\n",
    "import matplotlib.pyplot as plt\n",
    "import openaq\n",
    "import warnings\n"
   ]
  },
  {
   "cell_type": "code",
   "execution_count": 34,
   "metadata": {
    "scrolled": true
   },
   "outputs": [
    {
     "name": "stderr",
     "output_type": "stream",
     "text": [
      "C:\\Users\\avana\\AppData\\Local\\Continuum\\anaconda3\\envs\\pp-proj2\\lib\\site-packages\\openaq\\decorators.py:57: FutureWarning: pandas.io.json.json_normalize is deprecated, use pandas.json_normalize instead\n",
      "  data = pd.io.json.json_normalize(resp)\n",
      "C:\\Users\\avana\\AppData\\Local\\Continuum\\anaconda3\\envs\\pp-proj2\\lib\\site-packages\\openaq\\decorators.py:57: FutureWarning: pandas.io.json.json_normalize is deprecated, use pandas.json_normalize instead\n",
      "  data = pd.io.json.json_normalize(resp)\n",
      "C:\\Users\\avana\\AppData\\Local\\Continuum\\anaconda3\\envs\\pp-proj2\\lib\\site-packages\\openaq\\decorators.py:57: FutureWarning: pandas.io.json.json_normalize is deprecated, use pandas.json_normalize instead\n",
      "  data = pd.io.json.json_normalize(resp)\n",
      "C:\\Users\\avana\\AppData\\Local\\Continuum\\anaconda3\\envs\\pp-proj2\\lib\\site-packages\\openaq\\decorators.py:57: FutureWarning: pandas.io.json.json_normalize is deprecated, use pandas.json_normalize instead\n",
      "  data = pd.io.json.json_normalize(resp)\n",
      "C:\\Users\\avana\\AppData\\Local\\Continuum\\anaconda3\\envs\\pp-proj2\\lib\\site-packages\\openaq\\decorators.py:57: FutureWarning: pandas.io.json.json_normalize is deprecated, use pandas.json_normalize instead\n",
      "  data = pd.io.json.json_normalize(resp)\n",
      "C:\\Users\\avana\\AppData\\Local\\Continuum\\anaconda3\\envs\\pp-proj2\\lib\\site-packages\\openaq\\decorators.py:57: FutureWarning: pandas.io.json.json_normalize is deprecated, use pandas.json_normalize instead\n",
      "  data = pd.io.json.json_normalize(resp)\n",
      "C:\\Users\\avana\\AppData\\Local\\Continuum\\anaconda3\\envs\\pp-proj2\\lib\\site-packages\\openaq\\decorators.py:57: FutureWarning: pandas.io.json.json_normalize is deprecated, use pandas.json_normalize instead\n",
      "  data = pd.io.json.json_normalize(resp)\n",
      "C:\\Users\\avana\\AppData\\Local\\Continuum\\anaconda3\\envs\\pp-proj2\\lib\\site-packages\\openaq\\decorators.py:57: FutureWarning: pandas.io.json.json_normalize is deprecated, use pandas.json_normalize instead\n",
      "  data = pd.io.json.json_normalize(resp)\n",
      "C:\\Users\\avana\\AppData\\Local\\Continuum\\anaconda3\\envs\\pp-proj2\\lib\\site-packages\\openaq\\decorators.py:57: FutureWarning: pandas.io.json.json_normalize is deprecated, use pandas.json_normalize instead\n",
      "  data = pd.io.json.json_normalize(resp)\n",
      "C:\\Users\\avana\\AppData\\Local\\Continuum\\anaconda3\\envs\\pp-proj2\\lib\\site-packages\\openaq\\decorators.py:57: FutureWarning: pandas.io.json.json_normalize is deprecated, use pandas.json_normalize instead\n",
      "  data = pd.io.json.json_normalize(resp)\n",
      "C:\\Users\\avana\\AppData\\Local\\Continuum\\anaconda3\\envs\\pp-proj2\\lib\\site-packages\\openaq\\decorators.py:57: FutureWarning: pandas.io.json.json_normalize is deprecated, use pandas.json_normalize instead\n",
      "  data = pd.io.json.json_normalize(resp)\n",
      "C:\\Users\\avana\\AppData\\Local\\Continuum\\anaconda3\\envs\\pp-proj2\\lib\\site-packages\\openaq\\decorators.py:57: FutureWarning: pandas.io.json.json_normalize is deprecated, use pandas.json_normalize instead\n",
      "  data = pd.io.json.json_normalize(resp)\n",
      "C:\\Users\\avana\\AppData\\Local\\Continuum\\anaconda3\\envs\\pp-proj2\\lib\\site-packages\\openaq\\decorators.py:57: FutureWarning: pandas.io.json.json_normalize is deprecated, use pandas.json_normalize instead\n",
      "  data = pd.io.json.json_normalize(resp)\n",
      "C:\\Users\\avana\\AppData\\Local\\Continuum\\anaconda3\\envs\\pp-proj2\\lib\\site-packages\\openaq\\decorators.py:57: FutureWarning: pandas.io.json.json_normalize is deprecated, use pandas.json_normalize instead\n",
      "  data = pd.io.json.json_normalize(resp)\n",
      "C:\\Users\\avana\\AppData\\Local\\Continuum\\anaconda3\\envs\\pp-proj2\\lib\\site-packages\\openaq\\decorators.py:57: FutureWarning: pandas.io.json.json_normalize is deprecated, use pandas.json_normalize instead\n",
      "  data = pd.io.json.json_normalize(resp)\n",
      "C:\\Users\\avana\\AppData\\Local\\Continuum\\anaconda3\\envs\\pp-proj2\\lib\\site-packages\\openaq\\decorators.py:57: FutureWarning: pandas.io.json.json_normalize is deprecated, use pandas.json_normalize instead\n",
      "  data = pd.io.json.json_normalize(resp)\n",
      "C:\\Users\\avana\\AppData\\Local\\Continuum\\anaconda3\\envs\\pp-proj2\\lib\\site-packages\\openaq\\decorators.py:57: FutureWarning: pandas.io.json.json_normalize is deprecated, use pandas.json_normalize instead\n",
      "  data = pd.io.json.json_normalize(resp)\n"
     ]
    }
   ],
   "source": [
    "# Fetch the api\n",
    "# http://dhhagan.github.io/py-openaq/api.html\n",
    "api = openaq.OpenAQ()\n",
    "\n",
    "def measurement_to_csv(city,date_from,date_to):\n",
    "    '''\n",
    "    This function takes in a city, parameter and date and writes data into a csv.file\n",
    "    Input:\n",
    "        city: name of a city (string)\n",
    "        ???parameter: List of strings that represent the parameters wanted to calculate\n",
    "        date_from: measurments after this date will be calculated\n",
    "        date_to: Measures until this date will be calculated\n",
    "    '''\n",
    "\n",
    "    # Number of days we want measurements for\n",
    "    day_diff = (date_to - date_from).days\n",
    "\n",
    "    # Number of 30 day blocks in our range\n",
    "    number_months = day_diff // 30\n",
    "\n",
    "    start = date_from\n",
    "    \n",
    "    # Add measurements to csv file 30 days at a time\n",
    "    # An extra iteration for the remaining <30 days\n",
    "    for n in range(number_months + 1):\n",
    "        end = start + dt.timedelta(days = 30)\n",
    "         # Fetch the data from the measurment api\n",
    "        df = api.measurements(city = city, df = True, limit = 30000, parameter = [\"pm25\", \"pm10\"],\n",
    "                              date_from = start, date_to = end)\n",
    "        start = end\n",
    "\n",
    "        ## Data prepping \n",
    "\n",
    "        # change the index\n",
    "        df.index.name = 'Date.local'\n",
    "        df.reset_index(inplace=True)\n",
    "        df['Date'] = df['Date.local'].dt.strftime('%Y-%m-%d')\n",
    "        df['value'] = df['value'].astype(float, errors = 'raise')\n",
    "\n",
    "        # Calculate mean, max and min value for each date\n",
    "        Result_mean = df.groupby(['Date', 'parameter'],as_index=False)['value'].mean()\n",
    "        Result_max = df.groupby(['Date', 'parameter'],as_index=False)['value'].max()\n",
    "        Result_min = df.groupby(['Date', 'parameter'],as_index=False)['value'].min()\n",
    "\n",
    "        # Pivot the tables to wide format\n",
    "        ResultWide_mean = Result_mean.pivot_table(index='Date',columns='parameter', values='value')\n",
    "        ResultWide_max = Result_max.pivot_table(index='Date',columns='parameter', values='value')\n",
    "        ResultWide_min = Result_min.pivot_table(index='Date',columns='parameter', values='value')\n",
    "\n",
    "        # Rename the columns to distinguish\n",
    "        ResultWide_mean.rename(columns={\"pm10\": 'pm10_mean', 'pm25': 'pm25_mean'}, inplace=True)\n",
    "        ResultWide_max.rename(columns={\"pm10\": 'pm10_max', 'pm25': 'pm25_max'}, inplace=True)\n",
    "        ResultWide_min.rename(columns={\"pm10\": 'pm10_min', 'pm25': 'pm25_min'}, inplace=True)\n",
    "\n",
    "        # Join mean and max first\n",
    "        df_first_join = pd.merge(ResultWide_mean, ResultWide_max, left_index=True, right_index=True)\n",
    "\n",
    "        # Join now to min\n",
    "        ResultWide = pd.merge(df_first_join, ResultWide_min, left_index=True, right_index=True)\n",
    "\n",
    "        # Change the index\n",
    "        ResultWide.index.name = 'Date'\n",
    "        ResultWide.reset_index(inplace=True)\n",
    "        ResultWide.index.name = 'ID'\n",
    "\n",
    "        # Write to a file\n",
    "        if n == 0:  \n",
    "            Path = f'Data_measurements/{city}.csv'\n",
    "            ResultWide.to_csv(Path)\n",
    "        else:\n",
    "            ResultWide.to_csv(Path, mode = 'a', header= False)\n",
    "\n",
    "# Call the function\n",
    "city = 'London'\n",
    "date_from = pd.to_datetime('2020-01-01') \n",
    "date_to = pd.to_datetime('2021-05-01')\n",
    "\n",
    "measurement_to_csv(city,date_from,date_to)"
   ]
  },
  {
   "cell_type": "code",
   "execution_count": null,
   "metadata": {},
   "outputs": [],
   "source": [
    "# Choose the city\n",
    "city = 'London'\n",
    "\n",
    "\n",
    "# You need the csv.files for the city\n",
    "Measurements = pd.read_csv(f'Data_measurements/{city}.csv')\n"
   ]
  },
  {
   "cell_type": "code",
   "execution_count": 13,
   "metadata": {},
   "outputs": [
    {
     "data": {
      "image/png": "[encoded data removed]",
      "text/plain": [
       "<Figure size 432x288 with 1 Axes>"
      ]
     },
     "metadata": {
      "needs_background": "light"
     },
     "output_type": "display_data"
    }
   ],
   "source": [
    "#plt.scatter(Measurements['Date'], Measurements['pm10_mean'])\n",
    "\n",
    "\n",
    "sns.lineplot(x=\"Date\", y=\"pm10_mean\", data=Measurements)\n",
    "plt.xticks(rotation=15)\n",
    "plt.title('Daily pm10 levels in London')\n",
    "plt.show()"
   ]
  },
  {
   "cell_type": "code",
   "execution_count": null,
   "metadata": {},
   "outputs": [],
   "source": []
  }
 ],
 "metadata": {
  "kernelspec": {
   "display_name": "Python 3",
   "language": "python",
   "name": "python3"
  },
  "language_info": {
   "codemirror_mode": {
    "name": "ipython",
    "version": 3
   },
   "file_extension": ".py",
   "mimetype": "text/x-python",
   "name": "python",
   "nbconvert_exporter": "python",
   "pygments_lexer": "ipython3",
   "version": "3.8.5"
  }
 },
 "nbformat": 4,
 "nbformat_minor": 2
}
