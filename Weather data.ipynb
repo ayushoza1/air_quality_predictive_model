{
 "cells": [
  {
   "cell_type": "code",
   "execution_count": 1,
   "metadata": {},
   "outputs": [
    {
     "name": "stdout",
     "output_type": "stream",
     "text": [
      "Please enter one of {'Akureyri': 'IS', 'London': 'GB', 'Mexico City': 'MX', 'Newcastle': 'GB', 'Reykjavík': 'IS'} \n",
      "London\n",
      "            tavg  prcp   wdir  wspd  wpgt    pres\n",
      "time                                             \n",
      "2018-11-28  11.2   3.6  188.4  22.1  51.8  1006.0\n",
      "2018-11-29  11.5   7.8  202.0  26.4  57.4  1001.2\n",
      "2018-11-30   8.8   0.0  224.9  16.6  37.0  1006.8\n",
      "2018-12-01  10.1   6.5  198.1  15.2  33.3  1003.1\n",
      "2018-12-02  12.7   4.1  233.2  20.0  38.9   997.2\n",
      "...          ...   ...    ...   ...   ...     ...\n",
      "2021-11-19  10.3   0.0  243.4   9.9  22.2  1030.5\n",
      "2021-11-20   8.9   0.0  244.7   8.4  20.4  1024.2\n",
      "2021-11-21   4.9   0.0  340.9  18.1  40.8  1019.6\n",
      "2021-11-22   4.3   0.0    6.9  15.4  31.5  1029.8\n",
      "2021-11-23   3.7   0.0  356.0   7.7  20.4  1032.0\n",
      "\n",
      "[1092 rows x 6 columns]\n"
     ]
    }
   ],
   "source": [
    "import sys\n",
    "from pandas.core.frame import DataFrame\n",
    "import requests\n",
    "import datetime as dt\n",
    "from meteostat import Point\n",
    "from meteostat import Daily \n",
    "import matplotlib.pyplot as plt\n",
    "\n",
    "cities_of_interest = {\"Akureyri\": \"IS\", \"London\": \"GB\", \n",
    "    \"Mexico City\": \"MX\", \"Newcastle\": \"GB\", \"Reykjavík\":\"IS\"}\n",
    "\n",
    "input = input(f\"Please enter one of {cities_of_interest} \\n\")\n",
    "\n",
    "if input not in cities_of_interest.keys():\n",
    "    raise Exception(\"Bad user, give me the city\")\n",
    "\n",
    "def filter_results_to_country(geoapi_response_data, city):\n",
    "    #If there are multiple cities with the same name, we choose the most populated\n",
    "    filter_by_country = [resp for resp in geoapi_response_data if resp['country_code'] == cities_of_interest[city]]\n",
    "    # \n",
    "    sorted_by_pop = sorted(filter_by_country, key = lambda resp: resp['population'] if 'population' in resp else 0, reverse=True)\n",
    "    result = sorted_by_pop[0]\n",
    "\n",
    "    # Relevant subset of the result dict\n",
    "    return {key: result[key] for key in ('latitude', 'longitude', 'elevation', 'population')}\n",
    "\n",
    "def query_lat_long(city):\n",
    "    params_dict = {\n",
    "        'name': city,\n",
    "        #Default is 10 but since newcastle gives 9, we might hit the limit\n",
    "        'count': 100\n",
    "    }\n",
    "\n",
    "    # Since the user gives us more than 3 chars, the api performs fuzzy matching. So we do not\n",
    "    # need to worry abt spelling\n",
    "    resp = requests.get('https://geocoding-api.open-meteo.com/v1/search', params_dict)\n",
    "    data = resp.json()\n",
    "    \n",
    "    return filter_results_to_country(data['results'], city)\n",
    "\n",
    "def query_historical_weather(lat_long_elevation):\n",
    "    now = dt.datetime.now()\n",
    "    three_year_weeks = 52*3\n",
    "    three_year_delta = dt.timedelta(weeks=three_year_weeks)\n",
    "    five_days_ago = now - three_year_delta \n",
    "    location = Point(\n",
    "        lat_long_elevation['latitude'], \n",
    "        lat_long_elevation['longitude'], \n",
    "        lat_long_elevation['elevation'])\n",
    "\n",
    "    daily = Daily(location, start=five_days_ago, end=now)\n",
    "    \n",
    "    # Ask meteostat to fill in any gaps in the data\n",
    "    daily.normalize()\n",
    "    data = daily.fetch()\n",
    "    \n",
    "    #tavg=Temp average (C).prcp=Total precipitation(mm). wdir=Wind direction(degrees)\n",
    "    #wspd=Average wind speed(km/h).wpgt=Wind peak gust(km/hr). pres=Sea-level air pressure(hpa)\n",
    "    return data[['tavg', 'prcp', 'wdir', 'wspd', 'wpgt', 'pres']]\n",
    "\n",
    "def get_weather(city_country):\n",
    "    coords = query_lat_long(city_country)\n",
    "    return query_historical_weather(coords)\n",
    "\n",
    "data = get_weather(input)\n",
    "print(data)"
   ]
  },
  {
   "cell_type": "code",
   "execution_count": 5,
   "metadata": {},
   "outputs": [],
   "source": [
    "# Now we want to get it into a file \n",
    "#data.index.name = 'Date'\n",
    "#data.reset_index(inplace=True)\n",
    "#data.rename(columns={\"time\": 'Date'}, inplace=True)\n",
    "\n",
    "\n",
    "#data.head()\n",
    "Path = f'Data_weather/London.csv'\n",
    "data.to_csv(Path)"
   ]
  },
  {
   "cell_type": "code",
   "execution_count": null,
   "metadata": {},
   "outputs": [],
   "source": []
  }
 ],
 "metadata": {
  "kernelspec": {
   "display_name": "Python 3",
   "language": "python",
   "name": "python3"
  },
  "language_info": {
   "codemirror_mode": {
    "name": "ipython",
    "version": 3
   },
   "file_extension": ".py",
   "mimetype": "text/x-python",
   "name": "python",
   "nbconvert_exporter": "python",
   "pygments_lexer": "ipython3",
   "version": "3.8.8"
  }
 },
 "nbformat": 4,
 "nbformat_minor": 4
}
