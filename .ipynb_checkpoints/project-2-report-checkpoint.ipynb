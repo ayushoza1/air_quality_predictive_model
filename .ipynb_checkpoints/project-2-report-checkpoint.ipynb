{
 "cells": [
  {
   "cell_type": "markdown",
   "metadata": {},
   "source": [
    "# Project 2 report"
   ]
  },
  {
   "cell_type": "markdown",
   "metadata": {},
   "source": [
    "# Goal of the project\n",
    "\n",
    "* The **goal** of this project is for you to present a **coherent** (logical) and **well-coded** investigation into some aspects of the dataset.\n",
    "\n",
    "* **Ideas**: You don't need to answer them all, and you are strongly encouraged to answer questions that are not listed.\n",
    "\n",
    "* When you are presenting your investigation of each problem, be sure to make a **coherent** discussion for each task (using Markdown, maths as appropriate and code cells).\n",
    "\n",
    "\n",
    "# Project ideas\n",
    "\n",
    "**Projects involving certain cities**\n",
    "\n",
    "\n",
    "* Investigate the influence of a city size (population density, GDP?, other measures?) on air pollution. Might have to use other API's to get informations\n",
    "    * For different pollutants\n",
    "\n",
    "* Investigate the influence of weather for different cities.\n",
    "\n",
    "\n",
    "* Distance from coast (does that affect).\n",
    "\n",
    "* Tourism\n",
    "\n",
    "* Green space - does that affect?\n",
    "\n",
    "\n",
    "* Fitting a **linear regression model** where you predict the average pollution for a city based on (population, gdp, weather, location, ....). We could do this if the other two above do not take a long time\n",
    "\n",
    "\n",
    "* **Simple prediction model** to warn people about pollution the next day (Based on weather conditions tomorrow and the mean pollution for a certain month for a certain city)\n",
    "\n",
    "**Project involvin certain events**\n",
    "\n",
    "* Wildfire \n",
    "    * Produce certain pollutants\n",
    "    \n",
    "**Other Projects**\n",
    "\n",
    "* How countries are doing on their goal towards climate change?\n",
    "    * Hypothesis\n",
    "    * Visualize\n",
    "        * Over time\n",
    "        \n",
    "* Rich vs poor\n",
    "    * Do richer \n",
    "\n",
    "\n",
    "## Map\n",
    "\n",
    "* Color coding map\n",
    "    * color code how bad the pollution is\n",
    "    \n",
    "    \n",
    "* Time lapse over a day\n",
    "\n",
    "\n",
    "### Different kind of measures:\n",
    "\n",
    "* **pm25**: Fine particulate matter of size 2.5\n",
    "* **pm10**: Fine particulate matter of size 10\n",
    "* **so2**: Sulfur dioxide \n",
    "* **co**: Carbon monoxide\n",
    "* **no2**: Nitrogen dioxide\n",
    "* **o3**: ozone\n",
    "* **bc**: Black carbon \n",
    "\n",
    "# Assignments\n",
    "\n",
    "### Setup\n",
    "\n",
    "* Write an introduction to our problem\n",
    "* Description of the data we use (what data, API, etc.)\n",
    "* Maths (regression, computing averages, etc.)\n",
    "\n",
    "### Data\n",
    "\n",
    "* Fetch data for cities\n",
    "    * Aggregate daily/monthly data for measurements (pm25 for example)\n",
    "        * Average, max, min\n",
    "    * Aggregate daily/monthly data for weather?\n",
    "        * Average temp, wind, max temp, min\n",
    "    * Data on population, gdp,......?\n",
    "        * More fixed values, yearly might be enough\n",
    "        \n",
    "### Prediction, calculations  and plots\n",
    "\n",
    "* Plots of time series\n",
    "* Comparisons between cities\n",
    "* ??\n",
    "\n",
    "\n",
    "### Conclusions\n",
    "\n",
    "* ??\n",
    "\n"
   ]
  },
  {
   "cell_type": "markdown",
   "metadata": {},
   "source": [
    "# Data\n",
    "\n",
    "We will need to have the data for each city such that each row i corresponds to day i and column j is a measure of some kind. That is our table will be:\n",
    "\n",
    "Date, $X_1$, $X_2$, ..., $X_k$ where $X_1$ is a vector of size $n*1$ where n is the number of rows (days). $X_1$ could correspond to a measure of some kind (average temp for example) or measure of pm25\n",
    "\n",
    "We have to make decisions on how we aggregate the data. Do we take average over each day or always measures at local time 12:00."
   ]
  },
  {
   "cell_type": "markdown",
   "metadata": {},
   "source": [
    "# Summary from meeting 17. Nov\n",
    "\n",
    "\n",
    "We are going to sample **daily** data for cities on the format: \n",
    "\n",
    "$Date_i$, $X_1$, $X_2$, ..., $X_k$ where $X_1$ is a vector of size $n*1$ where n is the number of rows (days). $X_1$ could correspond to a measure of some kind (average temp for example) or measure of pm25.\n",
    "\n",
    "The dataset could look like:\n",
    "\n",
    "Date, MaxPM25, MinPM25, MaxPM10, MinPM25, max Temp, average Temp, average wind, maximum wind, population\n",
    "\n",
    "dd/mm/yyyy - 20 - 10 - 60 - 9 - 5 - 3 - .......- 100.000\n",
    "\n",
    "\n",
    "## Two different sources\n",
    "\n",
    "### Air quality (response variable)\n",
    "\n",
    "Here we use the Airquality API to fetch daily data for the airquality measures we want to look at.\n",
    "\n",
    "Need to choose what measure we choose and how we measure that pollution over one day.\n",
    "\n",
    "**Responsible**:\n",
    "Ava, Aevar\n",
    "\n",
    "\n",
    "\n",
    "### Effects (Prediction/causal variables)\n",
    "\n",
    "Here we use the weather API from workshop (5, 6 or 7). We need to summarize the weather for each day and what variables we wan't to keep.\n",
    "\n",
    "The weather API has output for **daily** weather data I think. The Readme file also recommends some API.\n",
    "\n",
    "Then we need to fetch data on Popuation, gdp, ....., whatever we think of.\n",
    "\n",
    "**Responsible**:\n",
    "Ayush, Baldur, Karla\n",
    "\n",
    "\n",
    "### Cities\n",
    "\n",
    "* London\n",
    "* Reykjavik\n",
    "* Mexico\n",
    "\n",
    "But all the code should have a variable called City so it's easy to reproduce.\n",
    "\n"
   ]
  },
  {
   "cell_type": "code",
   "execution_count": 6,
   "metadata": {},
   "outputs": [
    {
     "name": "stdout",
     "output_type": "stream",
     "text": [
      "pandas v1.1.3\n",
      "matplotlib v3.3.1\n",
      "seaborn v0.11.0\n",
      "openaq v1.1.0\n"
     ]
    }
   ],
   "source": [
    "import pandas as pd\n",
    "import seaborn as sns\n",
    "import matplotlib as mpl\n",
    "import matplotlib.pyplot as plt\n",
    "import openaq\n",
    "import warnings\n",
    "\n",
    "warnings.simplefilter('ignore')\n",
    "\n",
    "%matplotlib inline\n",
    "\n",
    "# Set major seaborn asthetics\n",
    "sns.set(\"notebook\", style='ticks', font_scale=1.0)\n",
    "\n",
    "# Increase the quality of inline plots\n",
    "mpl.rcParams['figure.dpi']= 500\n",
    "\n",
    "print (\"pandas v{}\".format(pd.__version__))\n",
    "print (\"matplotlib v{}\".format(mpl.__version__))\n",
    "print (\"seaborn v{}\".format(sns.__version__))\n",
    "print (\"openaq v{}\".format(openaq.__version__))"
   ]
  },
  {
   "cell_type": "code",
   "execution_count": 2,
   "metadata": {},
   "outputs": [],
   "source": [
    "# Fetch the api\n",
    "# http://dhhagan.github.io/py-openaq/api.html\n",
    "api = openaq.OpenAQ()"
   ]
  },
  {
   "cell_type": "code",
   "execution_count": 4,
   "metadata": {
    "scrolled": true
   },
   "outputs": [],
   "source": [
    "# Fetch the measurment data. df = True (Change it straight to a data frame), \n",
    "# limit of rows to return (Max value: 10000, default = 100)\n",
    "dt = api.measurements(city = 'Akureyri',df = True,limit=1000, parameter = \"pm10\")\n",
    "#dt = pd.DataFrame.from_dict(resp['results'])\n",
    "#dt.groupby(['date']).mean(\"value\")\n",
    "#dt[dt[\"value\"] <  0]\n",
    "#dt[dt[\"date.local\"] == \"2021-01-03\"]"
   ]
  },
  {
   "cell_type": "code",
   "execution_count": 5,
   "metadata": {},
   "outputs": [
    {
     "ename": "NameError",
     "evalue": "name 'resp' is not defined",
     "output_type": "error",
     "traceback": [
      "\u001b[0;31m---------------------------------------------------------------------------\u001b[0m",
      "\u001b[0;31mNameError\u001b[0m                                 Traceback (most recent call last)",
      "\u001b[0;32m<ipython-input-5-aacce3161a6c>\u001b[0m in \u001b[0;36m<module>\u001b[0;34m\u001b[0m\n\u001b[1;32m      1\u001b[0m \u001b[0;31m#pd.DataFrame.from_dict(resp['results']).groupby(['date']).count()\u001b[0m\u001b[0;34m\u001b[0m\u001b[0;34m\u001b[0m\u001b[0;34m\u001b[0m\u001b[0m\n\u001b[0;32m----> 2\u001b[0;31m \u001b[0mdt\u001b[0m \u001b[0;34m=\u001b[0m \u001b[0mpd\u001b[0m\u001b[0;34m.\u001b[0m\u001b[0mDataFrame\u001b[0m\u001b[0;34m.\u001b[0m\u001b[0mfrom_dict\u001b[0m\u001b[0;34m(\u001b[0m\u001b[0mresp\u001b[0m\u001b[0;34m[\u001b[0m\u001b[0;34m'results'\u001b[0m\u001b[0;34m]\u001b[0m\u001b[0;34m)\u001b[0m\u001b[0;34m\u001b[0m\u001b[0;34m\u001b[0m\u001b[0m\n\u001b[0m\u001b[1;32m      3\u001b[0m \u001b[0mdt\u001b[0m\u001b[0;34m.\u001b[0m\u001b[0mhead\u001b[0m\u001b[0;34m(\u001b[0m\u001b[0;36m15\u001b[0m\u001b[0;34m)\u001b[0m\u001b[0;34m\u001b[0m\u001b[0;34m\u001b[0m\u001b[0m\n\u001b[1;32m      4\u001b[0m \u001b[0;31m#dt.groupby(['parameter']).count()\u001b[0m\u001b[0;34m\u001b[0m\u001b[0;34m\u001b[0m\u001b[0;34m\u001b[0m\u001b[0m\n\u001b[1;32m      5\u001b[0m \u001b[0;31m#dt[\"date\"]\u001b[0m\u001b[0;34m\u001b[0m\u001b[0;34m\u001b[0m\u001b[0;34m\u001b[0m\u001b[0m\n",
      "\u001b[0;31mNameError\u001b[0m: name 'resp' is not defined"
     ]
    }
   ],
   "source": [
    "#pd.DataFrame.from_dict(resp['results']).groupby(['date']).count()\n",
    "dt = pd.DataFrame.from_dict(resp['results'])\n",
    "dt.head(15)\n",
    "#dt.groupby(['parameter']).count()\n",
    "#dt[\"date\"]"
   ]
  },
  {
   "cell_type": "code",
   "execution_count": null,
   "metadata": {},
   "outputs": [],
   "source": [
    "groupby(['Date']).count()"
   ]
  }
 ],
 "metadata": {
  "kernelspec": {
   "display_name": "Python 3",
   "language": "python",
   "name": "python3"
  },
  "language_info": {
   "codemirror_mode": {
    "name": "ipython",
    "version": 3
   },
   "file_extension": ".py",
   "mimetype": "text/x-python",
   "name": "python",
   "nbconvert_exporter": "python",
   "pygments_lexer": "ipython3",
   "version": "3.8.5"
  }
 },
 "nbformat": 4,
 "nbformat_minor": 4
}
