{
 "cells": [
  {
   "cell_type": "code",
   "execution_count": 3,
   "metadata": {},
   "outputs": [
    {
     "name": "stderr",
     "output_type": "stream",
     "text": [
      "C:\\Users\\karla\\anaconda3\\envs\\pp-proj2\\lib\\site-packages\\openaq\\decorators.py:57: FutureWarning: pandas.io.json.json_normalize is deprecated, use pandas.json_normalize instead\n",
      "  data = pd.io.json.json_normalize(resp)\n"
     ]
    },
    {
     "data": {
      "text/html": [
       "<div>\n",
       "<style scoped>\n",
       "    .dataframe tbody tr th:only-of-type {\n",
       "        vertical-align: middle;\n",
       "    }\n",
       "\n",
       "    .dataframe tbody tr th {\n",
       "        vertical-align: top;\n",
       "    }\n",
       "\n",
       "    .dataframe thead th {\n",
       "        text-align: right;\n",
       "    }\n",
       "</style>\n",
       "<table border=\"1\" class=\"dataframe\">\n",
       "  <thead>\n",
       "    <tr style=\"text-align: right;\">\n",
       "      <th></th>\n",
       "      <th>country</th>\n",
       "      <th>name</th>\n",
       "      <th>city</th>\n",
       "      <th>count</th>\n",
       "      <th>locations</th>\n",
       "    </tr>\n",
       "  </thead>\n",
       "  <tbody>\n",
       "    <tr>\n",
       "      <th>0</th>\n",
       "      <td>US</td>\n",
       "      <td>007</td>\n",
       "      <td>007</td>\n",
       "      <td>1372.0</td>\n",
       "      <td>5</td>\n",
       "    </tr>\n",
       "    <tr>\n",
       "      <th>1</th>\n",
       "      <td>US</td>\n",
       "      <td>019</td>\n",
       "      <td>019</td>\n",
       "      <td>704.0</td>\n",
       "      <td>1</td>\n",
       "    </tr>\n",
       "    <tr>\n",
       "      <th>2</th>\n",
       "      <td>US</td>\n",
       "      <td>037</td>\n",
       "      <td>037</td>\n",
       "      <td>2683.0</td>\n",
       "      <td>23</td>\n",
       "    </tr>\n",
       "    <tr>\n",
       "      <th>3</th>\n",
       "      <td>US</td>\n",
       "      <td>039</td>\n",
       "      <td>039</td>\n",
       "      <td>380.0</td>\n",
       "      <td>1</td>\n",
       "    </tr>\n",
       "    <tr>\n",
       "      <th>4</th>\n",
       "      <td>US</td>\n",
       "      <td>047</td>\n",
       "      <td>047</td>\n",
       "      <td>101.0</td>\n",
       "      <td>1</td>\n",
       "    </tr>\n",
       "    <tr>\n",
       "      <th>...</th>\n",
       "      <td>...</td>\n",
       "      <td>...</td>\n",
       "      <td>...</td>\n",
       "      <td>...</td>\n",
       "      <td>...</td>\n",
       "    </tr>\n",
       "    <tr>\n",
       "      <th>2910</th>\n",
       "      <td>CN</td>\n",
       "      <td>黔东南苗族侗族自治州</td>\n",
       "      <td>黔东南苗族侗族自治州</td>\n",
       "      <td>371477083.0</td>\n",
       "      <td>2</td>\n",
       "    </tr>\n",
       "    <tr>\n",
       "      <th>2911</th>\n",
       "      <td>CN</td>\n",
       "      <td>黔南布依族苗族自治州</td>\n",
       "      <td>黔南布依族苗族自治州</td>\n",
       "      <td>371969570.0</td>\n",
       "      <td>2</td>\n",
       "    </tr>\n",
       "    <tr>\n",
       "      <th>2912</th>\n",
       "      <td>CN</td>\n",
       "      <td>黔西南布依族苗族自治州</td>\n",
       "      <td>黔西南布依族苗族自治州</td>\n",
       "      <td>368439999.0</td>\n",
       "      <td>2</td>\n",
       "    </tr>\n",
       "    <tr>\n",
       "      <th>2913</th>\n",
       "      <td>CN</td>\n",
       "      <td>齐齐哈尔市</td>\n",
       "      <td>齐齐哈尔市</td>\n",
       "      <td>916311169.0</td>\n",
       "      <td>6</td>\n",
       "    </tr>\n",
       "    <tr>\n",
       "      <th>2914</th>\n",
       "      <td>CN</td>\n",
       "      <td>龙岩市</td>\n",
       "      <td>龙岩市</td>\n",
       "      <td>751770299.0</td>\n",
       "      <td>5</td>\n",
       "    </tr>\n",
       "  </tbody>\n",
       "</table>\n",
       "<p>2915 rows × 5 columns</p>\n",
       "</div>"
      ],
      "text/plain": [
       "     country         name         city        count  locations\n",
       "0         US          007          007       1372.0          5\n",
       "1         US          019          019        704.0          1\n",
       "2         US          037          037       2683.0         23\n",
       "3         US          039          039        380.0          1\n",
       "4         US          047          047        101.0          1\n",
       "...      ...          ...          ...          ...        ...\n",
       "2910      CN   黔东南苗族侗族自治州   黔东南苗族侗族自治州  371477083.0          2\n",
       "2911      CN   黔南布依族苗族自治州   黔南布依族苗族自治州  371969570.0          2\n",
       "2912      CN  黔西南布依族苗族自治州  黔西南布依族苗族自治州  368439999.0          2\n",
       "2913      CN        齐齐哈尔市        齐齐哈尔市  916311169.0          6\n",
       "2914      CN          龙岩市          龙岩市  751770299.0          5\n",
       "\n",
       "[2915 rows x 5 columns]"
      ]
     },
     "execution_count": 3,
     "metadata": {},
     "output_type": "execute_result"
    }
   ],
   "source": [
    "import pandas as pd\n",
    "import seaborn as sns\n",
    "import matplotlib as mpl\n",
    "import matplotlib.pyplot as plt\n",
    "import openaq\n",
    "import warnings\n",
    "from numpy import median\n",
    "\n",
    "api = openaq.OpenAQ()\n",
    "\n",
    "resp = api.cities(df=True, limit=10000)\n",
    "\n",
    "# display the first 10 rows\n",
    "#resp.info()\n",
    "\n",
    "resp"
   ]
  },
  {
   "cell_type": "code",
   "execution_count": 81,
   "metadata": {},
   "outputs": [
    {
     "data": {
      "text/html": [
       "<div>\n",
       "<style scoped>\n",
       "    .dataframe tbody tr th:only-of-type {\n",
       "        vertical-align: middle;\n",
       "    }\n",
       "\n",
       "    .dataframe tbody tr th {\n",
       "        vertical-align: top;\n",
       "    }\n",
       "\n",
       "    .dataframe thead th {\n",
       "        text-align: right;\n",
       "    }\n",
       "</style>\n",
       "<table border=\"1\" class=\"dataframe\">\n",
       "  <thead>\n",
       "    <tr style=\"text-align: right;\">\n",
       "      <th></th>\n",
       "      <th>Year</th>\n",
       "      <th>London</th>\n",
       "      <th>Mexico city</th>\n",
       "      <th>Newcastle</th>\n",
       "      <th>UK</th>\n",
       "      <th>Mexico</th>\n",
       "      <th>Iceland</th>\n",
       "    </tr>\n",
       "  </thead>\n",
       "  <tbody>\n",
       "    <tr>\n",
       "      <th>0</th>\n",
       "      <td>2021</td>\n",
       "      <td>9425622</td>\n",
       "      <td>21918936</td>\n",
       "      <td>813807</td>\n",
       "      <td>68207116</td>\n",
       "      <td>130262216</td>\n",
       "      <td>34335300</td>\n",
       "    </tr>\n",
       "    <tr>\n",
       "      <th>1</th>\n",
       "      <td>2020</td>\n",
       "      <td>9304016</td>\n",
       "      <td>21782378</td>\n",
       "      <td>809481</td>\n",
       "      <td>67886011</td>\n",
       "      <td>128932753</td>\n",
       "      <td>34124300</td>\n",
       "    </tr>\n",
       "    <tr>\n",
       "      <th>2</th>\n",
       "      <td>2019</td>\n",
       "      <td>9176530</td>\n",
       "      <td>21671908</td>\n",
       "      <td>805364</td>\n",
       "      <td>67530172</td>\n",
       "      <td>127575529</td>\n",
       "      <td>33903100</td>\n",
       "    </tr>\n",
       "    <tr>\n",
       "      <th>3</th>\n",
       "      <td>2018</td>\n",
       "      <td>9046485</td>\n",
       "      <td>21580828</td>\n",
       "      <td>801494</td>\n",
       "      <td>67141684</td>\n",
       "      <td>126190788</td>\n",
       "      <td>33671300</td>\n",
       "    </tr>\n",
       "    <tr>\n",
       "      <th>4</th>\n",
       "      <td>2017</td>\n",
       "      <td>8916251</td>\n",
       "      <td>21500252</td>\n",
       "      <td>797774</td>\n",
       "      <td>66727461</td>\n",
       "      <td>124777324</td>\n",
       "      <td>33439300</td>\n",
       "    </tr>\n",
       "    <tr>\n",
       "      <th>5</th>\n",
       "      <td>2016</td>\n",
       "      <td>8787892</td>\n",
       "      <td>21419976</td>\n",
       "      <td>794072</td>\n",
       "      <td>66297944</td>\n",
       "      <td>123333376</td>\n",
       "      <td>33220600</td>\n",
       "    </tr>\n",
       "    <tr>\n",
       "      <th>6</th>\n",
       "      <td>2015</td>\n",
       "      <td>8661381</td>\n",
       "      <td>21339780</td>\n",
       "      <td>790387</td>\n",
       "      <td>65860146</td>\n",
       "      <td>121858258</td>\n",
       "      <td>33024300</td>\n",
       "    </tr>\n",
       "  </tbody>\n",
       "</table>\n",
       "</div>"
      ],
      "text/plain": [
       "   Year   London  Mexico city  Newcastle        UK     Mexico   Iceland\n",
       "0  2021  9425622     21918936     813807  68207116  130262216  34335300\n",
       "1  2020  9304016     21782378     809481  67886011  128932753  34124300\n",
       "2  2019  9176530     21671908     805364  67530172  127575529  33903100\n",
       "3  2018  9046485     21580828     801494  67141684  126190788  33671300\n",
       "4  2017  8916251     21500252     797774  66727461  124777324  33439300\n",
       "5  2016  8787892     21419976     794072  66297944  123333376  33220600\n",
       "6  2015  8661381     21339780     790387  65860146  121858258  33024300"
      ]
     },
     "execution_count": 81,
     "metadata": {},
     "output_type": "execute_result"
    }
   ],
   "source": [
    "population = pd.read_csv('C:/Users/karla/OneDrive/Escritorio/Python Programming/Project 2/pp-project-2-group-51-2/Data_measurements/Popn.csv')\n",
    "population"
   ]
  },
  {
   "cell_type": "code",
   "execution_count": 87,
   "metadata": {},
   "outputs": [
    {
     "data": {
      "text/html": [
       "<div>\n",
       "<style scoped>\n",
       "    .dataframe tbody tr th:only-of-type {\n",
       "        vertical-align: middle;\n",
       "    }\n",
       "\n",
       "    .dataframe tbody tr th {\n",
       "        vertical-align: top;\n",
       "    }\n",
       "\n",
       "    .dataframe thead th {\n",
       "        text-align: right;\n",
       "    }\n",
       "</style>\n",
       "<table border=\"1\" class=\"dataframe\">\n",
       "  <thead>\n",
       "    <tr style=\"text-align: right;\">\n",
       "      <th></th>\n",
       "      <th>Year</th>\n",
       "      <th>London</th>\n",
       "    </tr>\n",
       "  </thead>\n",
       "  <tbody>\n",
       "    <tr>\n",
       "      <th>0</th>\n",
       "      <td>2021</td>\n",
       "      <td>9425622</td>\n",
       "    </tr>\n",
       "    <tr>\n",
       "      <th>1</th>\n",
       "      <td>2020</td>\n",
       "      <td>9304016</td>\n",
       "    </tr>\n",
       "    <tr>\n",
       "      <th>2</th>\n",
       "      <td>2019</td>\n",
       "      <td>9176530</td>\n",
       "    </tr>\n",
       "  </tbody>\n",
       "</table>\n",
       "</div>"
      ],
      "text/plain": [
       "   Year   London\n",
       "0  2021  9425622\n",
       "1  2020  9304016\n",
       "2  2019  9176530"
      ]
     },
     "execution_count": 87,
     "metadata": {},
     "output_type": "execute_result"
    }
   ],
   "source": [
    "population_1= population.iloc[0:3, 0:2]\n",
    "#population_1[\"Year\"] = population_1[\"Year\"].map(str)\n",
    "population_1[\"London\"] = pd.to_numeric(population_1[\"London\"])\n",
    "population_1"
   ]
  },
  {
   "cell_type": "code",
   "execution_count": 89,
   "metadata": {},
   "outputs": [
    {
     "ename": "AttributeError",
     "evalue": "'AxesSubplot' object has no attribute 'loc'",
     "output_type": "error",
     "traceback": [
      "\u001b[1;31m---------------------------------------------------------------------------\u001b[0m",
      "\u001b[1;31mAttributeError\u001b[0m                            Traceback (most recent call last)",
      "\u001b[1;32m<ipython-input-89-4679bfbd9c14>\u001b[0m in \u001b[0;36m<module>\u001b[1;34m\u001b[0m\n\u001b[0;32m      2\u001b[0m                    y=\"London\", data=population_1)\n\u001b[0;32m      3\u001b[0m \u001b[0mgrid\u001b[0m\u001b[1;33m.\u001b[0m\u001b[0mget_yaxis\u001b[0m\u001b[1;33m(\u001b[0m\u001b[1;33m)\u001b[0m\u001b[1;33m.\u001b[0m\u001b[0mget_major_formatter\u001b[0m\u001b[1;33m(\u001b[0m\u001b[1;33m)\u001b[0m\u001b[1;33m.\u001b[0m\u001b[0mset_scientific\u001b[0m\u001b[1;33m(\u001b[0m\u001b[1;32mFalse\u001b[0m\u001b[1;33m)\u001b[0m\u001b[1;33m\u001b[0m\u001b[1;33m\u001b[0m\u001b[0m\n\u001b[1;32m----> 4\u001b[1;33m \u001b[0mgrid\u001b[0m\u001b[1;33m.\u001b[0m\u001b[0mloc\u001b[0m\u001b[1;33m[\u001b[0m\u001b[1;34m'80000000'\u001b[0m\u001b[1;33m:\u001b[0m\u001b[1;33m]\u001b[0m\u001b[1;33m.\u001b[0m\u001b[0mplot\u001b[0m\u001b[1;33m(\u001b[0m\u001b[1;33m)\u001b[0m\u001b[1;33m\u001b[0m\u001b[1;33m\u001b[0m\u001b[0m\n\u001b[0m",
      "\u001b[1;31mAttributeError\u001b[0m: 'AxesSubplot' object has no attribute 'loc'"
     ]
    },
    {
     "data": {
      "image/png": "[encoded data removed]",
      "text/plain": [
       "<Figure size 432x288 with 1 Axes>"
      ]
     },
     "metadata": {
      "needs_background": "light"
     },
     "output_type": "display_data"
    }
   ],
   "source": [
    "grid = sns.barplot(x=\"Year\",\n",
    "                   y=\"London\", data=population_1)\n",
    "grid.get_yaxis().get_major_formatter().set_scientific(False)\n"
   ]
  },
  {
   "cell_type": "code",
   "execution_count": 77,
   "metadata": {},
   "outputs": [
    {
     "name": "stdout",
     "output_type": "stream",
     "text": [
      "<class 'str'>\n"
     ]
    }
   ],
   "source": [
    "polutants_lon = pd.read_csv('C:/Users/karla/OneDrive/Escritorio/Python Programming/Project 2/pp-project-2-group-51-2/Data_measurements/London.csv')\n",
    "polutants_lon\n",
    "print(type(\"pm10_mean\"))"
   ]
  },
  {
   "cell_type": "code",
   "execution_count": null,
   "metadata": {},
   "outputs": [],
   "source": []
  },
  {
   "cell_type": "code",
   "execution_count": 21,
   "metadata": {},
   "outputs": [
    {
     "data": {
      "image/png": "[encoded data removed]",
      "text/plain": [
       "<Figure size 360x360 with 1 Axes>"
      ]
     },
     "metadata": {
      "needs_background": "light"
     },
     "output_type": "display_data"
    }
   ],
   "source": [
    "grid = sns.catplot(data=GDPPerCap,\n",
    "                   x='Year',\n",
    "                   y='United Kingdom',\n",
    "                   kind='bar',\n",
    "                   ci=None)"
   ]
  },
  {
   "cell_type": "code",
   "execution_count": null,
   "metadata": {},
   "outputs": [],
   "source": []
  }
 ],
 "metadata": {
  "kernelspec": {
   "display_name": "Python 3",
   "language": "python",
   "name": "python3"
  },
  "language_info": {
   "codemirror_mode": {
    "name": "ipython",
    "version": 3
   },
   "file_extension": ".py",
   "mimetype": "text/x-python",
   "name": "python",
   "nbconvert_exporter": "python",
   "pygments_lexer": "ipython3",
   "version": "3.8.5"
  }
 },
 "nbformat": 4,
 "nbformat_minor": 4
}
